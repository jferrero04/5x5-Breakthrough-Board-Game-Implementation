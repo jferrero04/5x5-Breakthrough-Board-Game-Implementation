{
 "cells": [
  {
   "cell_type": "code",
   "execution_count": 1,
   "id": "147f387a-4765-498a-9709-115070384a85",
   "metadata": {
    "tags": []
   },
   "outputs": [
    {
     "name": "stdout",
     "output_type": "stream",
     "text": [
      "Version:  0.3.01\n"
     ]
    }
   ],
   "source": [
    "from Game import *"
   ]
  },
  {
   "cell_type": "markdown",
   "id": "6683a15a-3d85-489a-91ba-7db2608c574d",
   "metadata": {},
   "source": [
    "Four functions to do:\n",
    "\n",
    "1. `initial_state()`   return the state for the start of the game\n",
    "2. `valid_moves(state,player)` return a list of valid moves\n",
    "3. `update_state(state, player, move )` return the new state\n",
    "4. `win_status(new_state,player)` returns one of `\"win\"`,`\"lose\"`,`\"stalemate\"` or `None`"
   ]
  },
  {
   "attachments": {
    "4de9bce8-c0f9-433f-862e-f46f9b9c24c2.png": {
     "image/png": "[encoded data removed]"
    }
   },
   "cell_type": "markdown",
   "id": "2aa1cb62-120b-478d-ad1e-6b58724992a4",
   "metadata": {},
   "source": [
    "![image.png](attachment:4de9bce8-c0f9-433f-862e-f46f9b9c24c2.png)"
   ]
  },
  {
   "cell_type": "code",
   "execution_count": 2,
   "id": "e43235de-c60c-466d-8d6f-0b606a9298e8",
   "metadata": {
    "tags": []
   },
   "outputs": [],
   "source": [
    "def initial_state():\n",
    "    state=Board(5,5)\n",
    "    \n",
    "    row=0\n",
    "    for col in range(5):\n",
    "        state[row, col] = 1\n",
    "        \n",
    "    row=4\n",
    "    for col in range(5):\n",
    "        state[row, col] = 2\n",
    "    \n",
    "    return state"
   ]
  },
  {
   "cell_type": "markdown",
   "id": "7f0bcbbd-59d1-49c5-8648-b9f49900d794",
   "metadata": {},
   "source": [
    "Now, let's see if this function works as intended"
   ]
  },
  {
   "cell_type": "code",
   "execution_count": 3,
   "id": "b986ce98-58c8-4890-bc79-4532dca12e61",
   "metadata": {
    "tags": []
   },
   "outputs": [
    {
     "data": {
      "text/plain": [
       " 1  1  1  1  1 \n",
       " 0  0  0  0  0 \n",
       " 0  0  0  0  0 \n",
       " 0  0  0  0  0 \n",
       " 2  2  2  2  2 "
      ]
     },
     "execution_count": 3,
     "metadata": {},
     "output_type": "execute_result"
    }
   ],
   "source": [
    "initial_state()"
   ]
  },
  {
   "cell_type": "code",
   "execution_count": 4,
   "id": "e0c6896c-f4db-4875-af37-d45ef6de4c6c",
   "metadata": {
    "tags": []
   },
   "outputs": [
    {
     "name": "stdout",
     "output_type": "stream",
     "text": [
      " 0  1  2  3  4 \n",
      " 5  6  7  8  9 \n",
      "10 11 12 13 14 \n",
      "15 16 17 18 19 \n",
      "20 21 22 23 24 \n",
      "\n"
     ]
    }
   ],
   "source": [
    "# Let's take a look at the index locations of the board\n",
    "state=initial_state()\n",
    "state.show_locations()"
   ]
  },
  {
   "cell_type": "code",
   "execution_count": 5,
   "id": "b31c3427-c8c8-490c-825e-d0676b65fa87",
   "metadata": {
    "tags": []
   },
   "outputs": [],
   "source": [
    "def valid_moves(state, player):\n",
    "    moves=[]\n",
    "    player1Column1down=[0,5,10,15]\n",
    "    player2Column1up=[5,10,15,20]\n",
    "    player1Column5down=[4,9,14,19]\n",
    "    player2Column5up=[9,14,19,24]\n",
    "\n",
    "    # Player 1 valid forward moves\n",
    "    if player==1:\n",
    "        for location in range(20):\n",
    "            if state[location]==1:\n",
    "                newLocation=location+5\n",
    "                if newLocation<len(state) and state[newLocation]==0:\n",
    "                    moves.append((location,newLocation))\n",
    "\n",
    "    # Player 2 valid forward moves\n",
    "    if player==2:\n",
    "        for location in range(5, 25):\n",
    "            if state[location]==2:\n",
    "                newLocation=location-5\n",
    "                if newLocation>=0 and state[newLocation]==0:\n",
    "                    moves.append((location,newLocation))\n",
    "                \n",
    "    # Player 1 valid diagonal moves right\n",
    "    if player==1:\n",
    "        for location in range(20):\n",
    "            if state[location]==1:\n",
    "                if location%5==4:\n",
    "                    continue\n",
    "                newLocation=location+6\n",
    "                if newLocation<len(state) and state[newLocation]==2:\n",
    "                    moves.append((location,newLocation))\n",
    "                \n",
    "    # Player 1 valid diagonal moves left\n",
    "    if player==1:\n",
    "        for location in range(5,25):\n",
    "            if state[location]==1:\n",
    "                if location%5==0:\n",
    "                    continue\n",
    "                newLocation=location+4\n",
    "                if newLocation<len(state) and state[newLocation]==2:\n",
    "                    moves.append((location,newLocation))\n",
    "                    \n",
    "    # Player 1 valid diagonal moves down column 1 (0 index)\n",
    "    if player==1:\n",
    "        for location in player1Column1down:\n",
    "            if state[location]==1:\n",
    "                newLocation=location+6\n",
    "                if newLocation<len(state) and state[newLocation]==2:\n",
    "                    moves.append((location,newLocation))\n",
    "                    \n",
    "    # Player 1 valid diagonal moves down column 5 (4 index)\n",
    "    if player==1:\n",
    "        for location in player1Column5down:\n",
    "            if state[location]==1:\n",
    "                newLocation=location+4\n",
    "                if newLocation<len(state) and state[newLocation]==2:\n",
    "                    moves.append((location,newLocation))\n",
    "                \n",
    "    # Player 2 valid diagonal moves right\n",
    "    if player==2:\n",
    "        for location in range(20):\n",
    "            if state[location]==2:\n",
    "                if location%5==4:\n",
    "                    continue\n",
    "                newLocation=location-6\n",
    "                if newLocation>=0 and state[newLocation]==1:\n",
    "                    moves.append((location,newLocation))\n",
    "                \n",
    "    # Player 2 valid diagonal moves left\n",
    "    if player==2:\n",
    "        for location in range(20):\n",
    "            if state[location]==2:\n",
    "                if location%5==0:\n",
    "                    continue\n",
    "                newLocation=location-4\n",
    "                if newLocation>=0 and state[newLocation]==1:\n",
    "                    moves.append((location,newLocation))\n",
    "                    \n",
    "    # Player 2 valid diagonal moves up column 1 (0 index)\n",
    "    if player==2:\n",
    "        for location in player2Column1up:\n",
    "            if state[location]==2:\n",
    "                newLocation=location-4\n",
    "                if newLocation<len(state) and state[newLocation]==1:\n",
    "                    moves.append((location,newLocation))\n",
    "                    \n",
    "    # Player 2 valid diagonal moves up column 5 (4 index)\n",
    "    if player==2:\n",
    "        for location in player2Column5up:\n",
    "            if state[location]==2:\n",
    "                newLocation=location-6\n",
    "                if newLocation<len(state) and state[newLocation]==1:\n",
    "                    moves.append((location,newLocation))\n",
    "\n",
    "    return moves       "
   ]
  },
  {
   "cell_type": "markdown",
   "id": "5ac73100-de5c-47dc-96fb-6b0fb2fd0eb7",
   "metadata": {},
   "source": [
    "Let's see all valid moves for Player 1 at the start of the game"
   ]
  },
  {
   "cell_type": "code",
   "execution_count": 6,
   "id": "e1adb7be-324e-4692-b49e-b4d2d2b57578",
   "metadata": {
    "tags": []
   },
   "outputs": [
    {
     "data": {
      "text/plain": [
       "[(0, 5), (1, 6), (2, 7), (3, 8), (4, 9)]"
      ]
     },
     "execution_count": 6,
     "metadata": {},
     "output_type": "execute_result"
    }
   ],
   "source": [
    "# Player 1\n",
    "state=initial_state()\n",
    "valid_moves(state,1)"
   ]
  },
  {
   "cell_type": "markdown",
   "id": "7d436098-f775-4471-9f8d-c86074d2b9d6",
   "metadata": {},
   "source": [
    "Let's see all valid moves for Player 2 at the start of the game"
   ]
  },
  {
   "cell_type": "code",
   "execution_count": 7,
   "id": "c7cdc082-08ef-42ea-a115-87ce7dd08146",
   "metadata": {
    "tags": []
   },
   "outputs": [
    {
     "data": {
      "text/plain": [
       "[(20, 15), (21, 16), (22, 17), (23, 18), (24, 19)]"
      ]
     },
     "execution_count": 7,
     "metadata": {},
     "output_type": "execute_result"
    }
   ],
   "source": [
    "# Player 2\n",
    "state=initial_state()\n",
    "valid_moves(state,2)"
   ]
  },
  {
   "cell_type": "code",
   "execution_count": 8,
   "id": "470237ff-12b9-4dd0-9494-169abac10521",
   "metadata": {
    "tags": []
   },
   "outputs": [],
   "source": [
    "def update_state(state,player,move):\n",
    "    start,end=move\n",
    "    newState=state\n",
    "    newState[start]=0\n",
    "    newState[end]=player\n",
    "    \n",
    "    return newState"
   ]
  },
  {
   "cell_type": "code",
   "execution_count": 9,
   "id": "964805f2-19ff-4af7-a50f-4e2ed4869438",
   "metadata": {
    "tags": []
   },
   "outputs": [
    {
     "data": {
      "text/plain": [
       " 1  0  1  1  1 \n",
       " 0  1  0  0  0 \n",
       " 0  0  0  0  0 \n",
       " 0  0  0  0  0 \n",
       " 2  2  2  2  2 "
      ]
     },
     "execution_count": 9,
     "metadata": {},
     "output_type": "execute_result"
    }
   ],
   "source": [
    "state=initial_state()\n",
    "state[3]=state[6]=1\n",
    "state[1]=state[1]=0\n",
    "state"
   ]
  },
  {
   "cell_type": "code",
   "execution_count": 10,
   "id": "f35fe4ab-e6fa-494b-a1f1-bf69deb10e51",
   "metadata": {
    "tags": []
   },
   "outputs": [],
   "source": [
    "def win_status(state,player):\n",
    "    # Win by reaching opposing players start row\n",
    "    for col in range(5):\n",
    "        if state[4, col]==1:\n",
    "            return \"win\"\n",
    "            \n",
    "    for col in range(5):\n",
    "        if state[0, col]==2:\n",
    "            return \"win\"\n",
    "\n",
    "    # Win by blocking and win by eliminating all opposing players' pieces\n",
    "    if player==1 and not valid_moves(state,2):\n",
    "        return \"win\"\n",
    "    \n",
    "    if player==2 and not valid_moves(state,1):\n",
    "        return \"win\"\n",
    "\n",
    "    return None\n"
   ]
  },
  {
   "cell_type": "code",
   "execution_count": 11,
   "id": "e0bf3163-d3ed-4262-91dc-f99f3f6e67d3",
   "metadata": {
    "tags": []
   },
   "outputs": [],
   "source": [
    "def human_move(state,player):\n",
    "    \n",
    "    while True:\n",
    "        moves=eval(input(\"Enter your move\"))\n",
    "\n",
    "        if moves not in valid_moves(state,player):\n",
    "            print(\"That is not a valid move\")\n",
    "        else:\n",
    "            break\n",
    "    \n",
    "    return moves\n",
    "\n",
    "human_agent=Agent(human_move)"
   ]
  },
  {
   "cell_type": "code",
   "execution_count": 12,
   "id": "617361e4-aaa9-47bf-a70e-9423a0c9888e",
   "metadata": {
    "tags": []
   },
   "outputs": [],
   "source": [
    "def show_state(state,player):\n",
    "    print(state)"
   ]
  },
  {
   "cell_type": "code",
   "execution_count": 13,
   "id": "36d4486d-694d-4a28-be90-3d8f444218b1",
   "metadata": {
    "tags": []
   },
   "outputs": [],
   "source": [
    "def monkey_move(state,player):\n",
    "    return random.choice(valid_moves(state,player))\n",
    "monkey_agent=Agent(monkey_move)"
   ]
  },
  {
   "cell_type": "code",
   "execution_count": 14,
   "id": "537a9484-70be-4021-8fdb-4a04ac8a4c16",
   "metadata": {
    "tags": []
   },
   "outputs": [],
   "source": [
    "from Game.minimax import *"
   ]
  },
  {
   "cell_type": "code",
   "execution_count": 15,
   "id": "7a3dc63b-b2ae-4c01-bb86-a7bf1696cab1",
   "metadata": {
    "tags": []
   },
   "outputs": [],
   "source": [
    "def minimax_move(state,player):\n",
    "    values,actions=minimax_values(state,player,display=False)\n",
    "    return top_choice(actions,values)\n",
    "minimax_agent=Agent(minimax_move)"
   ]
  },
  {
   "cell_type": "code",
   "execution_count": 16,
   "id": "94216a8d-c9e1-4386-8404-bab46da92543",
   "metadata": {
    "tags": []
   },
   "outputs": [
    {
     "name": "stdout",
     "output_type": "stream",
     "text": [
      "  Choice Time: 1 minutes 33.77448058128357 seconds \n"
     ]
    },
    {
     "data": {
      "text/plain": [
       "([-1, -1, -1, -1, -1], [(4, 9), (3, 8), (2, 7), (1, 6), (0, 5)])"
      ]
     },
     "execution_count": 16,
     "metadata": {},
     "output_type": "execute_result"
    }
   ],
   "source": [
    "state=initial_state()\n",
    "minimax_values(state,1)  # state, player"
   ]
  },
  {
   "cell_type": "code",
   "execution_count": 17,
   "id": "fea73cf7-f72f-4ec5-ad02-4b5dfe5ac729",
   "metadata": {
    "tags": []
   },
   "outputs": [
    {
     "data": {
      "text/plain": [
       "(2, 7)"
      ]
     },
     "execution_count": 17,
     "metadata": {},
     "output_type": "execute_result"
    }
   ],
   "source": [
    "minimax_move(state,1)"
   ]
  },
  {
   "cell_type": "code",
   "execution_count": 30,
   "id": "0a62fa0c-6252-4463-b311-6838410a5817",
   "metadata": {
    "tags": []
   },
   "outputs": [
    {
     "name": "stdout",
     "output_type": "stream",
     "text": [
      "====\n",
      "Game  1\n",
      " 1  1  1  1  1 \n",
      " 0  0  0  0  0 \n",
      " 0  0  0  0  0 \n",
      " 0  0  0  0  0 \n",
      " 2  2  2  2  2 \n",
      "\n",
      "Player 1 moves (0, 5)\n",
      " 0  1  1  1  1 \n",
      " 1  0  0  0  0 \n",
      " 0  0  0  0  0 \n",
      " 0  0  0  0  0 \n",
      " 2  2  2  2  2 \n",
      "\n",
      "Player 2 moves (20, 15)\n",
      " 0  1  1  1  1 \n",
      " 1  0  0  0  0 \n",
      " 0  0  0  0  0 \n",
      " 2  0  0  0  0 \n",
      " 0  2  2  2  2 \n",
      "\n",
      "Player 1 moves (1, 6)\n",
      " 0  0  1  1  1 \n",
      " 1  1  0  0  0 \n",
      " 0  0  0  0  0 \n",
      " 2  0  0  0  0 \n",
      " 0  2  2  2  2 \n",
      "\n",
      "Player 2 moves (23, 18)\n",
      " 0  0  1  1  1 \n",
      " 1  1  0  0  0 \n",
      " 0  0  0  0  0 \n",
      " 2  0  0  2  0 \n",
      " 0  2  2  0  2 \n",
      "\n",
      "Player 1 moves (4, 9)\n",
      " 0  0  1  1  0 \n",
      " 1  1  0  0  1 \n",
      " 0  0  0  0  0 \n",
      " 2  0  0  2  0 \n",
      " 0  2  2  0  2 \n",
      "\n",
      "Player 2 moves (21, 16)\n",
      " 0  0  1  1  0 \n",
      " 1  1  0  0  1 \n",
      " 0  0  0  0  0 \n",
      " 2  2  0  2  0 \n",
      " 0  0  2  0  2 \n",
      "\n",
      "Player 1 moves (2, 7)\n",
      " 0  0  0  1  0 \n",
      " 1  1  1  0  1 \n",
      " 0  0  0  0  0 \n",
      " 2  2  0  2  0 \n",
      " 0  0  2  0  2 \n",
      "\n",
      "Player 2 moves (24, 19)\n",
      " 0  0  0  1  0 \n",
      " 1  1  1  0  1 \n",
      " 0  0  0  0  0 \n",
      " 2  2  0  2  2 \n",
      " 0  0  2  0  0 \n",
      "\n",
      "Player 1 moves (7, 12)\n",
      " 0  0  0  1  0 \n",
      " 1  1  0  0  1 \n",
      " 0  0  1  0  0 \n",
      " 2  2  0  2  2 \n",
      " 0  0  2  0  0 \n",
      "\n",
      "Player 2 moves (15, 9)\n",
      " 0  0  0  1  0 \n",
      " 1  1  0  0  2 \n",
      " 0  0  1  0  0 \n",
      " 0  2  0  2  2 \n",
      " 0  0  2  0  0 \n",
      "\n",
      "Player 1 moves (6, 11)\n",
      " 0  0  0  1  0 \n",
      " 1  0  0  0  2 \n",
      " 0  1  1  0  0 \n",
      " 0  2  0  2  2 \n",
      " 0  0  2  0  0 \n",
      "\n",
      "Player 2 moves (9, 3)\n",
      " 0  0  0  2  0 \n",
      " 1  0  0  0  0 \n",
      " 0  1  1  0  0 \n",
      " 0  2  0  2  2 \n",
      " 0  0  2  0  0 \n",
      "\n",
      "Player  2 won.\n"
     ]
    },
    {
     "data": {
      "text/plain": [
       "[2]"
      ]
     },
     "execution_count": 30,
     "metadata": {},
     "output_type": "execute_result"
    }
   ],
   "source": [
    "g=Game()\n",
    "g.run(monkey_agent,monkey_agent)"
   ]
  },
  {
   "cell_type": "code",
   "execution_count": 20,
   "id": "b71370bb-ca2f-4e54-aed1-f95c97f6b2ca",
   "metadata": {
    "tags": []
   },
   "outputs": [
    {
     "name": "stdout",
     "output_type": "stream",
     "text": [
      "====\n",
      "Game  1\n",
      " 1  1  1  1  1 \n",
      " 0  0  0  0  0 \n",
      " 0  0  0  0  0 \n",
      " 0  0  0  0  0 \n",
      " 2  2  2  2  2 \n",
      "\n",
      "Player 1 moves (3, 8)\n",
      " 1  1  1  0  1 \n",
      " 0  0  0  1  0 \n",
      " 0  0  0  0  0 \n",
      " 0  0  0  0  0 \n",
      " 2  2  2  2  2 \n",
      "\n",
      "Player 2 moves (21, 16)\n",
      " 1  1  1  0  1 \n",
      " 0  0  0  1  0 \n",
      " 0  0  0  0  0 \n",
      " 0  2  0  0  0 \n",
      " 2  0  2  2  2 \n",
      "\n",
      "Player 1 moves (8, 13)\n",
      " 1  1  1  0  1 \n",
      " 0  0  0  0  0 \n",
      " 0  0  0  1  0 \n",
      " 0  2  0  0  0 \n",
      " 2  0  2  2  2 \n",
      "\n",
      "Player 2 moves (20, 15)\n",
      " 1  1  1  0  1 \n",
      " 0  0  0  0  0 \n",
      " 0  0  0  1  0 \n",
      " 2  2  0  0  0 \n",
      " 0  0  2  2  2 \n",
      "\n",
      "Player 1 moves (2, 7)\n",
      " 1  1  0  0  1 \n",
      " 0  0  1  0  0 \n",
      " 0  0  0  1  0 \n",
      " 2  2  0  0  0 \n",
      " 0  0  2  2  2 \n",
      "\n",
      "Player 2 moves (22, 17)\n",
      " 1  1  0  0  1 \n",
      " 0  0  1  0  0 \n",
      " 0  0  0  1  0 \n",
      " 2  2  2  0  0 \n",
      " 0  0  0  2  2 \n",
      "\n",
      "Player 1 moves (7, 12)\n",
      " 1  1  0  0  1 \n",
      " 0  0  0  0  0 \n",
      " 0  0  1  1  0 \n",
      " 2  2  2  0  0 \n",
      " 0  0  0  2  2 \n",
      "\n",
      "Player 2 moves (23, 18)\n",
      " 1  1  0  0  1 \n",
      " 0  0  0  0  0 \n",
      " 0  0  1  1  0 \n",
      " 2  2  2  2  0 \n",
      " 0  0  0  0  2 \n",
      "\n",
      "Player 1 moves (0, 5)\n",
      " 0  1  0  0  1 \n",
      " 1  0  0  0  0 \n",
      " 0  0  1  1  0 \n",
      " 2  2  2  2  0 \n",
      " 0  0  0  0  2 \n",
      "\n",
      "Player 2 moves (16, 11)\n",
      " 0  1  0  0  1 \n",
      " 1  0  0  0  0 \n",
      " 0  2  1  1  0 \n",
      " 2  0  2  2  0 \n",
      " 0  0  0  0  2 \n",
      "\n",
      "Player 1 moves (5, 10)\n",
      " 0  1  0  0  1 \n",
      " 0  0  0  0  0 \n",
      " 1  2  1  1  0 \n",
      " 2  0  2  2  0 \n",
      " 0  0  0  0  2 \n",
      "\n",
      "Player 2 moves (17, 13)\n",
      " 0  1  0  0  1 \n",
      " 0  0  0  0  0 \n",
      " 1  2  1  2  0 \n",
      " 2  0  0  2  0 \n",
      " 0  0  0  0  2 \n",
      "\n",
      "Player 1 moves (12, 17)\n",
      " 0  1  0  0  1 \n",
      " 0  0  0  0  0 \n",
      " 1  2  0  2  0 \n",
      " 2  0  1  2  0 \n",
      " 0  0  0  0  2 \n",
      "\n",
      "Player 2 moves (24, 19)\n",
      " 0  1  0  0  1 \n",
      " 0  0  0  0  0 \n",
      " 1  2  0  2  0 \n",
      " 2  0  1  2  2 \n",
      " 0  0  0  0  0 \n",
      "\n",
      "Player 1 moves (4, 9)\n",
      " 0  1  0  0  0 \n",
      " 0  0  0  0  1 \n",
      " 1  2  0  2  0 \n",
      " 2  0  1  2  2 \n",
      " 0  0  0  0  0 \n",
      "\n",
      "Player 2 moves (11, 6)\n",
      " 0  1  0  0  0 \n",
      " 0  2  0  0  1 \n",
      " 1  0  0  2  0 \n",
      " 2  0  1  2  2 \n",
      " 0  0  0  0  0 \n",
      "\n",
      "Player 1 moves (9, 13)\n",
      " 0  1  0  0  0 \n",
      " 0  2  0  0  0 \n",
      " 1  0  0  1  0 \n",
      " 2  0  1  2  2 \n",
      " 0  0  0  0  0 \n",
      "\n",
      "Player 2 moves (19, 13)\n",
      " 0  1  0  0  0 \n",
      " 0  2  0  0  0 \n",
      " 1  0  0  2  0 \n",
      " 2  0  1  2  0 \n",
      " 0  0  0  0  0 \n",
      "\n",
      "Player 1 moves (17, 22)\n",
      " 0  1  0  0  0 \n",
      " 0  2  0  0  0 \n",
      " 1  0  0  2  0 \n",
      " 2  0  0  2  0 \n",
      " 0  0  1  0  0 \n",
      "\n",
      "Player  1 won.\n"
     ]
    },
    {
     "data": {
      "text/plain": [
       "[1]"
      ]
     },
     "execution_count": 20,
     "metadata": {},
     "output_type": "execute_result"
    }
   ],
   "source": [
    "g=Game()\n",
    "g.run(minimax_agent,monkey_agent)"
   ]
  },
  {
   "cell_type": "code",
   "execution_count": 21,
   "id": "fbea1cf1-12ef-49d9-8f4b-bf9da898b5bb",
   "metadata": {},
   "outputs": [
    {
     "name": "stdout",
     "output_type": "stream",
     "text": [
      "====\n",
      "Game  1\n",
      " 1  1  1  1  1 \n",
      " 0  0  0  0  0 \n",
      " 0  0  0  0  0 \n",
      " 0  0  0  0  0 \n",
      " 2  2  2  2  2 \n",
      "\n",
      "Player 1 moves (1, 6)\n",
      " 1  0  1  1  1 \n",
      " 0  1  0  0  0 \n",
      " 0  0  0  0  0 \n",
      " 0  0  0  0  0 \n",
      " 2  2  2  2  2 \n",
      "\n"
     ]
    },
    {
     "name": "stdin",
     "output_type": "stream",
     "text": [
      "Enter your move 20,15\n"
     ]
    },
    {
     "name": "stdout",
     "output_type": "stream",
     "text": [
      "Player 2 moves (20, 15)\n",
      " 1  0  1  1  1 \n",
      " 0  1  0  0  0 \n",
      " 0  0  0  0  0 \n",
      " 2  0  0  0  0 \n",
      " 0  2  2  2  2 \n",
      "\n",
      "Player 1 moves (4, 9)\n",
      " 1  0  1  1  0 \n",
      " 0  1  0  0  1 \n",
      " 0  0  0  0  0 \n",
      " 2  0  0  0  0 \n",
      " 0  2  2  2  2 \n",
      "\n"
     ]
    },
    {
     "name": "stdin",
     "output_type": "stream",
     "text": [
      "Enter your move 24,19\n"
     ]
    },
    {
     "name": "stdout",
     "output_type": "stream",
     "text": [
      "Player 2 moves (24, 19)\n",
      " 1  0  1  1  0 \n",
      " 0  1  0  0  1 \n",
      " 0  0  0  0  0 \n",
      " 2  0  0  0  2 \n",
      " 0  2  2  2  0 \n",
      "\n",
      "Player 1 moves (6, 11)\n",
      " 1  0  1  1  0 \n",
      " 0  0  0  0  1 \n",
      " 0  1  0  0  0 \n",
      " 2  0  0  0  2 \n",
      " 0  2  2  2  0 \n",
      "\n"
     ]
    },
    {
     "name": "stdin",
     "output_type": "stream",
     "text": [
      "Enter your move 19,14\n"
     ]
    },
    {
     "name": "stdout",
     "output_type": "stream",
     "text": [
      "Player 2 moves (19, 14)\n",
      " 1  0  1  1  0 \n",
      " 0  0  0  0  1 \n",
      " 0  1  0  0  2 \n",
      " 2  0  0  0  0 \n",
      " 0  2  2  2  0 \n",
      "\n",
      "Player 1 moves (3, 8)\n",
      " 1  0  1  0  0 \n",
      " 0  0  0  1  1 \n",
      " 0  1  0  0  2 \n",
      " 2  0  0  0  0 \n",
      " 0  2  2  2  0 \n",
      "\n"
     ]
    },
    {
     "name": "stdin",
     "output_type": "stream",
     "text": [
      "Enter your move 14,8\n"
     ]
    },
    {
     "name": "stdout",
     "output_type": "stream",
     "text": [
      "Player 2 moves (14, 8)\n",
      " 1  0  1  0  0 \n",
      " 0  0  0  2  1 \n",
      " 0  1  0  0  0 \n",
      " 2  0  0  0  0 \n",
      " 0  2  2  2  0 \n",
      "\n",
      "Player 1 moves (2, 7)\n",
      " 1  0  0  0  0 \n",
      " 0  0  1  2  1 \n",
      " 0  1  0  0  0 \n",
      " 2  0  0  0  0 \n",
      " 0  2  2  2  0 \n",
      "\n"
     ]
    },
    {
     "name": "stdin",
     "output_type": "stream",
     "text": [
      "Enter your move 8,3\n"
     ]
    },
    {
     "name": "stdout",
     "output_type": "stream",
     "text": [
      "Player 2 moves (8, 3)\n",
      " 1  0  0  2  0 \n",
      " 0  0  1  0  1 \n",
      " 0  1  0  0  0 \n",
      " 2  0  0  0  0 \n",
      " 0  2  2  2  0 \n",
      "\n",
      "Player  2 won.\n"
     ]
    },
    {
     "data": {
      "text/plain": [
       "[2]"
      ]
     },
     "execution_count": 21,
     "metadata": {},
     "output_type": "execute_result"
    }
   ],
   "source": [
    "g=Game()\n",
    "g.run(monkey_agent,human_agent)"
   ]
  },
  {
   "cell_type": "code",
   "execution_count": 22,
   "id": "69bebfd4-dafe-4dda-9bc5-5a8625ddac8a",
   "metadata": {},
   "outputs": [
    {
     "name": "stdout",
     "output_type": "stream",
     "text": [
      "====\n",
      "Game  1\n",
      " 1  1  1  1  1 \n",
      " 0  0  0  0  0 \n",
      " 0  0  0  0  0 \n",
      " 0  0  0  0  0 \n",
      " 2  2  2  2  2 \n",
      "\n"
     ]
    },
    {
     "name": "stdin",
     "output_type": "stream",
     "text": [
      "Enter your move 0,5\n"
     ]
    },
    {
     "name": "stdout",
     "output_type": "stream",
     "text": [
      "Player 1 moves (0, 5)\n",
      " 0  1  1  1  1 \n",
      " 1  0  0  0  0 \n",
      " 0  0  0  0  0 \n",
      " 0  0  0  0  0 \n",
      " 2  2  2  2  2 \n",
      "\n"
     ]
    },
    {
     "name": "stdin",
     "output_type": "stream",
     "text": [
      "Enter your move 24,19\n"
     ]
    },
    {
     "name": "stdout",
     "output_type": "stream",
     "text": [
      "Player 2 moves (24, 19)\n",
      " 0  1  1  1  1 \n",
      " 1  0  0  0  0 \n",
      " 0  0  0  0  0 \n",
      " 0  0  0  0  2 \n",
      " 2  2  2  2  0 \n",
      "\n"
     ]
    },
    {
     "name": "stdin",
     "output_type": "stream",
     "text": [
      "Enter your move 1,6\n"
     ]
    },
    {
     "name": "stdout",
     "output_type": "stream",
     "text": [
      "Player 1 moves (1, 6)\n",
      " 0  0  1  1  1 \n",
      " 1  1  0  0  0 \n",
      " 0  0  0  0  0 \n",
      " 0  0  0  0  2 \n",
      " 2  2  2  2  0 \n",
      "\n"
     ]
    },
    {
     "name": "stdin",
     "output_type": "stream",
     "text": [
      "Enter your move 21,16\n"
     ]
    },
    {
     "name": "stdout",
     "output_type": "stream",
     "text": [
      "Player 2 moves (21, 16)\n",
      " 0  0  1  1  1 \n",
      " 1  1  0  0  0 \n",
      " 0  0  0  0  0 \n",
      " 0  2  0  0  2 \n",
      " 2  0  2  2  0 \n",
      "\n"
     ]
    },
    {
     "name": "stdin",
     "output_type": "stream",
     "text": [
      "Enter your move 6,11\n"
     ]
    },
    {
     "name": "stdout",
     "output_type": "stream",
     "text": [
      "Player 1 moves (6, 11)\n",
      " 0  0  1  1  1 \n",
      " 1  0  0  0  0 \n",
      " 0  1  0  0  0 \n",
      " 0  2  0  0  2 \n",
      " 2  0  2  2  0 \n",
      "\n"
     ]
    },
    {
     "name": "stdin",
     "output_type": "stream",
     "text": [
      "Enter your move 22,17\n"
     ]
    },
    {
     "name": "stdout",
     "output_type": "stream",
     "text": [
      "Player 2 moves (22, 17)\n",
      " 0  0  1  1  1 \n",
      " 1  0  0  0  0 \n",
      " 0  1  0  0  0 \n",
      " 0  2  2  0  2 \n",
      " 2  0  0  2  0 \n",
      "\n"
     ]
    },
    {
     "name": "stdin",
     "output_type": "stream",
     "text": [
      "Enter your move 5,10\n"
     ]
    },
    {
     "name": "stdout",
     "output_type": "stream",
     "text": [
      "Player 1 moves (5, 10)\n",
      " 0  0  1  1  1 \n",
      " 0  0  0  0  0 \n",
      " 1  1  0  0  0 \n",
      " 0  2  2  0  2 \n",
      " 2  0  0  2  0 \n",
      "\n"
     ]
    },
    {
     "name": "stdin",
     "output_type": "stream",
     "text": [
      "Enter your move 17,11\n"
     ]
    },
    {
     "name": "stdout",
     "output_type": "stream",
     "text": [
      "Player 2 moves (17, 11)\n",
      " 0  0  1  1  1 \n",
      " 0  0  0  0  0 \n",
      " 1  2  0  0  0 \n",
      " 0  2  0  0  2 \n",
      " 2  0  0  2  0 \n",
      "\n"
     ]
    },
    {
     "name": "stdin",
     "output_type": "stream",
     "text": [
      "Enter your move 10,16\n"
     ]
    },
    {
     "name": "stdout",
     "output_type": "stream",
     "text": [
      "Player 1 moves (10, 16)\n",
      " 0  0  1  1  1 \n",
      " 0  0  0  0  0 \n",
      " 0  2  0  0  0 \n",
      " 0  1  0  0  2 \n",
      " 2  0  0  2  0 \n",
      "\n"
     ]
    },
    {
     "name": "stdin",
     "output_type": "stream",
     "text": [
      "Enter your move 20,16\n"
     ]
    },
    {
     "name": "stdout",
     "output_type": "stream",
     "text": [
      "Player 2 moves (20, 16)\n",
      " 0  0  1  1  1 \n",
      " 0  0  0  0  0 \n",
      " 0  2  0  0  0 \n",
      " 0  2  0  0  2 \n",
      " 0  0  0  2  0 \n",
      "\n"
     ]
    },
    {
     "name": "stdin",
     "output_type": "stream",
     "text": [
      "Enter your move 11,6\n"
     ]
    },
    {
     "name": "stdout",
     "output_type": "stream",
     "text": [
      "That is not a valid move\n"
     ]
    },
    {
     "name": "stdin",
     "output_type": "stream",
     "text": [
      "Enter your move 2,7\n"
     ]
    },
    {
     "name": "stdout",
     "output_type": "stream",
     "text": [
      "Player 1 moves (2, 7)\n",
      " 0  0  0  1  1 \n",
      " 0  0  1  0  0 \n",
      " 0  2  0  0  0 \n",
      " 0  2  0  0  2 \n",
      " 0  0  0  2  0 \n",
      "\n"
     ]
    },
    {
     "name": "stdin",
     "output_type": "stream",
     "text": [
      "Enter your move 11,7\n"
     ]
    },
    {
     "name": "stdout",
     "output_type": "stream",
     "text": [
      "Player 2 moves (11, 7)\n",
      " 0  0  0  1  1 \n",
      " 0  0  2  0  0 \n",
      " 0  0  0  0  0 \n",
      " 0  2  0  0  2 \n",
      " 0  0  0  2  0 \n",
      "\n"
     ]
    },
    {
     "name": "stdin",
     "output_type": "stream",
     "text": [
      "Enter your move 3,7\n"
     ]
    },
    {
     "name": "stdout",
     "output_type": "stream",
     "text": [
      "That is not a valid move\n"
     ]
    },
    {
     "name": "stdin",
     "output_type": "stream",
     "text": [
      "Enter your move 4,9\n"
     ]
    },
    {
     "name": "stdout",
     "output_type": "stream",
     "text": [
      "Player 1 moves (4, 9)\n",
      " 0  0  0  1  0 \n",
      " 0  0  2  0  1 \n",
      " 0  0  0  0  0 \n",
      " 0  2  0  0  2 \n",
      " 0  0  0  2  0 \n",
      "\n"
     ]
    },
    {
     "name": "stdin",
     "output_type": "stream",
     "text": [
      "Enter your move 7,2\n"
     ]
    },
    {
     "name": "stdout",
     "output_type": "stream",
     "text": [
      "Player 2 moves (7, 2)\n",
      " 0  0  2  1  0 \n",
      " 0  0  0  0  1 \n",
      " 0  0  0  0  0 \n",
      " 0  2  0  0  2 \n",
      " 0  0  0  2  0 \n",
      "\n",
      "Player  2 won.\n"
     ]
    },
    {
     "data": {
      "text/plain": [
       "[2]"
      ]
     },
     "execution_count": 22,
     "metadata": {},
     "output_type": "execute_result"
    }
   ],
   "source": [
    "g=Game()\n",
    "g.run(human_agent,human_agent)"
   ]
  }
 ],
 "metadata": {
  "kernelspec": {
   "display_name": "Python 3 (ipykernel)",
   "language": "python",
   "name": "python3"
  },
  "language_info": {
   "codemirror_mode": {
    "name": "ipython",
    "version": 3
   },
   "file_extension": ".py",
   "mimetype": "text/x-python",
   "name": "python",
   "nbconvert_exporter": "python",
   "pygments_lexer": "ipython3",
   "version": "3.11.5"
  }
 },
 "nbformat": 4,
 "nbformat_minor": 5
}
